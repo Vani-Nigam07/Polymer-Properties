{
 "cells": [
  {
   "cell_type": "code",
   "execution_count": 1,
   "id": "c725a857",
   "metadata": {},
   "outputs": [],
   "source": [
    "from IPython.core.display import HTML\n",
    "import os\n",
    "import rdkit\n",
    "from rdkit import Chem\n",
    "from rdkit.Chem import PandasTools\n",
    "import pandas as pd\n",
    "import matplotlib.pyplot as plt\n",
    "import time\n",
    "import numpy as np\n",
    "from sklearn.pipeline import Pipeline, make_pipeline\n",
    "from sklearn.linear_model import Ridge\n",
    "from sklearn.model_selection import train_test_split\n",
    "from scikit_mol.fingerprints import MorganFingerprintTransformer\n",
    "from scikit_mol.conversions import SmilesToMolTransformer\n",
    "from scikit_mol.standardizer import Standardizer\n",
    "from scikit_mol.descriptors import MolecularDescriptorTransformer\n"
   ]
  },
  {
   "cell_type": "code",
   "execution_count": 2,
   "id": "6e517de2",
   "metadata": {},
   "outputs": [],
   "source": [
    "import torch\n",
    "\n",
    "import rdkit\n",
    "from rdkit import Chem\n",
    "from rdkit.Chem import AllChem\n",
    "import rdkit.Chem.rdFingerprintGenerator as rdFingerprintGenerator\n",
    "\n",
    "#from rdkit.Chem.rdFingerprintGenerator import MorganFingerprintGenerator\n"
   ]
  },
  {
   "cell_type": "code",
   "execution_count": 3,
   "id": "293d819b",
   "metadata": {},
   "outputs": [],
   "source": [
    "import yaml\n",
    "\n",
    "# Path to your config file\n",
    "CONFIG_PATH = r\"D:\\Skills\\new\\NeurIPS2\\config.yaml\"\n",
    "\n",
    "# Load it\n",
    "with open(CONFIG_PATH, 'r') as file:\n",
    "    config = yaml.safe_load(file)\n"
   ]
  },
  {
   "cell_type": "code",
   "execution_count": 4,
   "id": "b67e366b",
   "metadata": {},
   "outputs": [],
   "source": [
    "ffv_merged = config['output']['ffv_merged_csv']\n",
    "Tc_cleaned = config['output']['Tc_csv']\n",
    "Tg_cleaned = config['output']['Tg_csv']\n",
    "\n"
   ]
  },
  {
   "cell_type": "code",
   "execution_count": 5,
   "id": "c48ea78a",
   "metadata": {},
   "outputs": [],
   "source": [
    "rdkit_ffv_pt = config['output']['rdkit_ffv']\n",
    "rdkit_ffv_meta = config['output']['rdkit_ffv_meta']"
   ]
  },
  {
   "cell_type": "code",
   "execution_count": 6,
   "id": "2c96f661",
   "metadata": {},
   "outputs": [],
   "source": [
    "import torch\n",
    "import pandas as pd\n",
    "from torch.utils.data import TensorDataset, DataLoader, random_split\n",
    "\n",
    "# Load tensors\n",
    "X = torch.load(rdkit_ffv_pt)  # [N, 1024]\n",
    "meta = pd.read_csv(rdkit_ffv_meta)\n",
    "\n",
    "# Load target\n",
    "y = torch.tensor(meta['FFV'].values, dtype=torch.float32).unsqueeze(1)  # [N, 1]\n"
   ]
  },
  {
   "cell_type": "code",
   "execution_count": 10,
   "id": "83c4aaca",
   "metadata": {},
   "outputs": [
    {
     "data": {
      "text/plain": [
       "tensor([0., 0., 0.,  ..., 0., 0., 0.])"
      ]
     },
     "execution_count": 10,
     "metadata": {},
     "output_type": "execute_result"
    }
   ],
   "source": [
    "X[21]"
   ]
  },
  {
   "cell_type": "code",
   "execution_count": 11,
   "id": "787aea21",
   "metadata": {},
   "outputs": [],
   "source": [
    "from sklearn.model_selection import train_test_split\n",
    "\n",
    "X_train, X_val, y_train, y_val = train_test_split(X, y, test_size=0.2, random_state=42)\n",
    "\n",
    "train_dataset = TensorDataset(X_train, y_train)\n",
    "val_dataset = TensorDataset(X_val, y_val)\n",
    "\n",
    "train_loader = DataLoader(train_dataset, batch_size=64, shuffle=True)\n",
    "val_loader = DataLoader(val_dataset, batch_size=64, shuffle=False)\n"
   ]
  },
  {
   "cell_type": "code",
   "execution_count": 12,
   "id": "3bd0d665",
   "metadata": {},
   "outputs": [],
   "source": [
    "import torch.nn as nn\n",
    "\n",
    "class FFVPredictor(nn.Module):\n",
    "    def __init__(self, input_dim=1024):\n",
    "        super().__init__()\n",
    "        self.model = nn.Sequential(\n",
    "            nn.Linear(input_dim, 512),\n",
    "            nn.ReLU(),\n",
    "            nn.BatchNorm1d(512),\n",
    "            nn.Linear(512, 128),\n",
    "            nn.ReLU(),\n",
    "            nn.Linear(128, 1)  # regression output\n",
    "        )\n",
    "\n",
    "    def forward(self, x):\n",
    "        return self.model(x)\n"
   ]
  },
  {
   "cell_type": "code",
   "execution_count": null,
   "id": "8614f41e",
   "metadata": {},
   "outputs": [],
   "source": []
  },
  {
   "cell_type": "code",
   "execution_count": null,
   "id": "9d93887e",
   "metadata": {},
   "outputs": [],
   "source": []
  },
  {
   "cell_type": "code",
   "execution_count": 20,
   "id": "c647977d",
   "metadata": {},
   "outputs": [],
   "source": [
    "import torch\n",
    "import torch.nn as nn\n",
    "from tqdm import tqdm\n",
    "import numpy as np\n",
    "\n",
    "# --- Step 1: Define the weighted MAE (wMAE) function ---\n",
    "def compute_ffv_weight(val_df, column='FFV'):\n",
    "    r_ffv = val_df[column].max() - val_df[column].min()\n",
    "    n_ffv = val_df[column].notna().sum()\n",
    "\n",
    "    # Simulate weights of 5 tasks (competition setup)\n",
    "    dummy_counts = {\n",
    "        \"FFV\": n_ffv,\n",
    "        \"Tg\": 50,\n",
    "        \"Tc\": 40,\n",
    "        \"Density\": 30,\n",
    "        \"Rg\": 25\n",
    "    }\n",
    "    K = len(dummy_counts)\n",
    "    denom = sum([np.sqrt(1 / c) for c in dummy_counts.values()])\n",
    "    scale = (K * np.sqrt(1 / n_ffv)) / denom\n",
    "    weight = (1 / r_ffv) * scale\n",
    "    return weight\n",
    "\n",
    "\n",
    "def ffv_weighted_mae(preds, targets, weight):\n",
    "    mask = ~torch.isnan(targets)\n",
    "    preds = preds[mask]\n",
    "    targets = targets[mask]\n",
    "    if len(preds) == 0:\n",
    "        return None\n",
    "    mae = torch.mean(torch.abs(preds - targets))\n",
    "    return (weight * mae).item()\n"
   ]
  },
  {
   "cell_type": "code",
   "execution_count": 21,
   "id": "9f6f1146",
   "metadata": {},
   "outputs": [],
   "source": [
    "model = FFVPredictor(input_dim=1024)\n",
    "loss_fn = nn.MSELoss()\n",
    "optimizer = torch.optim.Adam(model.parameters(), lr=1e-3)\n",
    "device = torch.device(\"cuda\" if torch.cuda.is_available() else \"cpu\")\n",
    "model = model.to(device)\n"
   ]
  },
  {
   "cell_type": "markdown",
   "id": "59b5be9a",
   "metadata": {},
   "source": [
    "# Compute FFV weight from the meta CSV"
   ]
  },
  {
   "cell_type": "code",
   "execution_count": 23,
   "id": "7359804c",
   "metadata": {},
   "outputs": [
    {
     "name": "stdout",
     "output_type": "stream",
     "text": [
      "FFV Weight (competition metric): 0.147560\n"
     ]
    }
   ],
   "source": [
    "ffv_weight = compute_ffv_weight(meta, column=\"FFV\")\n",
    "print(f\"FFV Weight (competition metric): {ffv_weight:.6f}\")\n"
   ]
  },
  {
   "cell_type": "markdown",
   "id": "84303b2f",
   "metadata": {},
   "source": [
    "# Training loop"
   ]
  },
  {
   "cell_type": "code",
   "execution_count": 24,
   "id": "2facb680",
   "metadata": {},
   "outputs": [
    {
     "name": "stdout",
     "output_type": "stream",
     "text": [
      "Epoch 01 | Train Loss: 0.004750 | Val wMAE: 0.006100\n",
      "🔥 Best model updated.\n",
      "Epoch 02 | Train Loss: 0.002970 | Val wMAE: 0.004564\n",
      "🔥 Best model updated.\n",
      "Epoch 03 | Train Loss: 0.002292 | Val wMAE: 0.004407\n",
      "🔥 Best model updated.\n",
      "Epoch 04 | Train Loss: 0.001596 | Val wMAE: 0.003261\n",
      "🔥 Best model updated.\n",
      "Epoch 05 | Train Loss: 0.001210 | Val wMAE: 0.003377\n",
      "Epoch 06 | Train Loss: 0.000941 | Val wMAE: 0.003530\n",
      "Epoch 07 | Train Loss: 0.000981 | Val wMAE: 0.003765\n",
      "Epoch 08 | Train Loss: 0.000754 | Val wMAE: 0.002903\n",
      "🔥 Best model updated.\n",
      "Epoch 09 | Train Loss: 0.000801 | Val wMAE: 0.002960\n",
      "Epoch 10 | Train Loss: 0.000562 | Val wMAE: 0.003020\n",
      "Epoch 11 | Train Loss: 0.000489 | Val wMAE: 0.002205\n",
      "🔥 Best model updated.\n",
      "Epoch 12 | Train Loss: 0.000493 | Val wMAE: 0.002760\n",
      "Epoch 13 | Train Loss: 0.000445 | Val wMAE: 0.002336\n",
      "Epoch 14 | Train Loss: 0.000466 | Val wMAE: 0.002501\n",
      "Epoch 15 | Train Loss: 0.000427 | Val wMAE: 0.002353\n",
      "Epoch 16 | Train Loss: 0.000407 | Val wMAE: 0.002544\n",
      "Epoch 17 | Train Loss: 0.000362 | Val wMAE: 0.002119\n",
      "🔥 Best model updated.\n",
      "Epoch 18 | Train Loss: 0.000324 | Val wMAE: 0.002433\n",
      "Epoch 19 | Train Loss: 0.000364 | Val wMAE: 0.003044\n",
      "Epoch 20 | Train Loss: 0.000329 | Val wMAE: 0.001933\n",
      "🔥 Best model updated.\n"
     ]
    }
   ],
   "source": [
    "EPOCHS = 20\n",
    "best_wmae = float(\"inf\")\n",
    "\n",
    "for epoch in range(EPOCHS):\n",
    "    model.train()\n",
    "    train_loss = 0\n",
    "\n",
    "    for batch_X, batch_y in train_loader:\n",
    "        batch_X, batch_y = batch_X.to(device), batch_y.to(device)\n",
    "        optimizer.zero_grad()\n",
    "\n",
    "        preds = model(batch_X)\n",
    "        loss = loss_fn(preds, batch_y)\n",
    "        loss.backward()\n",
    "        optimizer.step()\n",
    "        train_loss += loss.item() * batch_X.size(0)\n",
    "\n",
    "    # --- Validation ---\n",
    "    model.eval()\n",
    "    val_preds = []\n",
    "    val_targets = []\n",
    "\n",
    "    with torch.no_grad():\n",
    "        for batch_X, batch_y in val_loader:\n",
    "            batch_X, batch_y = batch_X.to(device), batch_y.to(device)\n",
    "            preds = model(batch_X)\n",
    "            val_preds.append(preds)\n",
    "            val_targets.append(batch_y)\n",
    "\n",
    "    val_preds = torch.cat(val_preds, dim=0)\n",
    "    val_targets = torch.cat(val_targets, dim=0)\n",
    "\n",
    "    # Compute wMAE\n",
    "    wmae_score = ffv_weighted_mae(val_preds, val_targets, ffv_weight)\n",
    "\n",
    "    print(f\"Epoch {epoch+1:02d} | Train Loss: {train_loss/len(train_loader.dataset):.6f} | Val wMAE: {wmae_score:.6f}\")\n",
    "\n",
    "    # Optional: Save best model\n",
    "    if wmae_score < best_wmae:\n",
    "        best_wmae = wmae_score\n",
    "        torch.save(model.state_dict(), \"best_ffv_model.pth\")\n",
    "        print(\"🔥 Best model updated.\")\n"
   ]
  },
  {
   "cell_type": "code",
   "execution_count": null,
   "id": "82705c1b",
   "metadata": {},
   "outputs": [],
   "source": []
  }
 ],
 "metadata": {
  "kernelspec": {
   "display_name": "polymer-predictor",
   "language": "python",
   "name": "python3"
  },
  "language_info": {
   "codemirror_mode": {
    "name": "ipython",
    "version": 3
   },
   "file_extension": ".py",
   "mimetype": "text/x-python",
   "name": "python",
   "nbconvert_exporter": "python",
   "pygments_lexer": "ipython3",
   "version": "3.10.18"
  }
 },
 "nbformat": 4,
 "nbformat_minor": 5
}
