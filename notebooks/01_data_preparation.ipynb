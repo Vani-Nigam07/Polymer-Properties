{
 "cells": [
  {
   "cell_type": "code",
   "execution_count": 1,
   "id": "3b3d72c9",
   "metadata": {},
   "outputs": [],
   "source": [
    "from IPython.core.display import HTML\n",
    "import os\n",
    "import rdkit\n",
    "from rdkit import Chem\n",
    "from rdkit.Chem import PandasTools\n",
    "import pandas as pd\n",
    "import matplotlib.pyplot as plt\n",
    "import time\n",
    "import numpy as np\n",
    "from sklearn.pipeline import Pipeline, make_pipeline\n",
    "from sklearn.linear_model import Ridge\n",
    "from sklearn.model_selection import train_test_split\n",
    "from scikit_mol.fingerprints import MorganFingerprintTransformer\n",
    "from scikit_mol.conversions import SmilesToMolTransformer\n",
    "from scikit_mol.standardizer import Standardizer\n",
    "from scikit_mol.descriptors import MolecularDescriptorTransformer\n"
   ]
  },
  {
   "cell_type": "code",
   "execution_count": 3,
   "id": "979f77cf",
   "metadata": {},
   "outputs": [],
   "source": [
    "import yaml\n",
    "\n",
    "# Path to your config file\n",
    "CONFIG_PATH = r\"D:\\Skills\\new\\NeurIPS2\\config.yaml\"\n",
    "\n",
    "# Load it\n",
    "with open(CONFIG_PATH, 'r') as file:\n",
    "    config = yaml.safe_load(file)\n"
   ]
  },
  {
   "cell_type": "code",
   "execution_count": 4,
   "id": "d292b200",
   "metadata": {},
   "outputs": [],
   "source": [
    "ffv_merged_csv = config['output']['ffv_merged_csv']"
   ]
  },
  {
   "cell_type": "code",
   "execution_count": 4,
   "id": "858a46dd",
   "metadata": {},
   "outputs": [
    {
     "name": "stdout",
     "output_type": "stream",
     "text": [
      "dict_keys(['ffv_merged_csv', 'Tc_csv', 'Tg_csv'])\n"
     ]
    }
   ],
   "source": [
    "print(config['output'].keys())\n",
    "\n"
   ]
  },
  {
   "cell_type": "code",
   "execution_count": 5,
   "id": "e866eddc",
   "metadata": {},
   "outputs": [],
   "source": [
    "raw_train_csv = config['data']['raw_train_csv'] \n",
    "raw_train_df = pd.read_csv(raw_train_csv)\n"
   ]
  },
  {
   "cell_type": "code",
   "execution_count": 11,
   "id": "b324712d",
   "metadata": {},
   "outputs": [
    {
     "data": {
      "text/plain": [
       "7973"
      ]
     },
     "execution_count": 11,
     "metadata": {},
     "output_type": "execute_result"
    }
   ],
   "source": [
    "len(raw_train_df)"
   ]
  },
  {
   "cell_type": "code",
   "execution_count": 19,
   "id": "39851c0b",
   "metadata": {},
   "outputs": [
    {
     "data": {
      "text/plain": [
       "nan"
      ]
     },
     "execution_count": 19,
     "metadata": {},
     "output_type": "execute_result"
    }
   ],
   "source": [
    "raw_train_df['Density'][0]"
   ]
  },
  {
   "cell_type": "code",
   "execution_count": 7,
   "id": "79d5c568",
   "metadata": {},
   "outputs": [
    {
     "name": "stdout",
     "output_type": "stream",
     "text": [
      "7973\n",
      "FFV nan 943\n",
      "7462\n",
      "7236\n",
      "7359\n",
      "7360\n"
     ]
    }
   ],
   "source": [
    "print(len(raw_train_df))\n",
    "\n",
    "print(f\"FFV nan {raw_train_df['FFV'].isna().sum()}\")\n",
    "\n",
    "print(raw_train_df['Tg'].isna().sum())\n",
    "\n",
    "print(raw_train_df['Tc'].isna().sum())\n",
    "\n",
    "print(raw_train_df['Rg'].isna().sum())\n",
    "\n",
    "print(raw_train_df['Density'].isna().sum())"
   ]
  },
  {
   "cell_type": "markdown",
   "id": "f40d5753",
   "metadata": {},
   "source": [
    "## FFV Dataset"
   ]
  },
  {
   "cell_type": "code",
   "execution_count": null,
   "id": "7174e8ff",
   "metadata": {},
   "outputs": [],
   "source": [
    "raw_train_df.dropna(subset = ['FFV'], inplace=True)"
   ]
  },
  {
   "cell_type": "code",
   "execution_count": null,
   "id": "284889f9",
   "metadata": {},
   "outputs": [
    {
     "data": {
      "text/html": [
       "<div>\n",
       "<style scoped>\n",
       "    .dataframe tbody tr th:only-of-type {\n",
       "        vertical-align: middle;\n",
       "    }\n",
       "\n",
       "    .dataframe tbody tr th {\n",
       "        vertical-align: top;\n",
       "    }\n",
       "\n",
       "    .dataframe thead th {\n",
       "        text-align: right;\n",
       "    }\n",
       "</style>\n",
       "<table border=\"1\" class=\"dataframe\">\n",
       "  <thead>\n",
       "    <tr style=\"text-align: right;\">\n",
       "      <th></th>\n",
       "      <th>id</th>\n",
       "      <th>SMILES</th>\n",
       "      <th>Tg</th>\n",
       "      <th>FFV</th>\n",
       "      <th>Tc</th>\n",
       "      <th>Density</th>\n",
       "      <th>Rg</th>\n",
       "    </tr>\n",
       "  </thead>\n",
       "  <tbody>\n",
       "    <tr>\n",
       "      <th>0</th>\n",
       "      <td>87817</td>\n",
       "      <td>*CC(*)c1ccccc1C(=O)OCCCCCC</td>\n",
       "      <td>NaN</td>\n",
       "      <td>0.374645</td>\n",
       "      <td>0.205667</td>\n",
       "      <td>NaN</td>\n",
       "      <td>NaN</td>\n",
       "    </tr>\n",
       "    <tr>\n",
       "      <th>1</th>\n",
       "      <td>106919</td>\n",
       "      <td>*Nc1ccc([C@H](CCC)c2ccc(C3(c4ccc([C@@H](CCC)c5...</td>\n",
       "      <td>NaN</td>\n",
       "      <td>0.370410</td>\n",
       "      <td>NaN</td>\n",
       "      <td>NaN</td>\n",
       "      <td>NaN</td>\n",
       "    </tr>\n",
       "    <tr>\n",
       "      <th>2</th>\n",
       "      <td>388772</td>\n",
       "      <td>*Oc1ccc(S(=O)(=O)c2ccc(Oc3ccc(C4(c5ccc(Oc6ccc(...</td>\n",
       "      <td>NaN</td>\n",
       "      <td>0.378860</td>\n",
       "      <td>NaN</td>\n",
       "      <td>NaN</td>\n",
       "      <td>NaN</td>\n",
       "    </tr>\n",
       "    <tr>\n",
       "      <th>3</th>\n",
       "      <td>519416</td>\n",
       "      <td>*Nc1ccc(-c2c(-c3ccc(C)cc3)c(-c3ccc(C)cc3)c(N*)...</td>\n",
       "      <td>NaN</td>\n",
       "      <td>0.387324</td>\n",
       "      <td>NaN</td>\n",
       "      <td>NaN</td>\n",
       "      <td>NaN</td>\n",
       "    </tr>\n",
       "    <tr>\n",
       "      <th>4</th>\n",
       "      <td>539187</td>\n",
       "      <td>*Oc1ccc(OC(=O)c2cc(OCCCCCCCCCOCC3CCCN3c3ccc([N...</td>\n",
       "      <td>NaN</td>\n",
       "      <td>0.355470</td>\n",
       "      <td>NaN</td>\n",
       "      <td>NaN</td>\n",
       "      <td>NaN</td>\n",
       "    </tr>\n",
       "    <tr>\n",
       "      <th>...</th>\n",
       "      <td>...</td>\n",
       "      <td>...</td>\n",
       "      <td>...</td>\n",
       "      <td>...</td>\n",
       "      <td>...</td>\n",
       "      <td>...</td>\n",
       "      <td>...</td>\n",
       "    </tr>\n",
       "    <tr>\n",
       "      <th>7967</th>\n",
       "      <td>2146213237</td>\n",
       "      <td>*CCOC(=O)c1ccc(C(C#N)=C(c2ccc(OC)cc2)N2CCC(*)C...</td>\n",
       "      <td>NaN</td>\n",
       "      <td>0.385608</td>\n",
       "      <td>NaN</td>\n",
       "      <td>NaN</td>\n",
       "      <td>NaN</td>\n",
       "    </tr>\n",
       "    <tr>\n",
       "      <th>7968</th>\n",
       "      <td>2146592435</td>\n",
       "      <td>*Oc1cc(CCCCCCCC)cc(OC(=O)c2cccc(C(*)=O)c2)c1</td>\n",
       "      <td>NaN</td>\n",
       "      <td>0.367498</td>\n",
       "      <td>NaN</td>\n",
       "      <td>NaN</td>\n",
       "      <td>NaN</td>\n",
       "    </tr>\n",
       "    <tr>\n",
       "      <th>7969</th>\n",
       "      <td>2146810552</td>\n",
       "      <td>*C(=O)OCCN(CCOC(=O)c1ccc2c(c1)C(=O)N(c1cccc(N3...</td>\n",
       "      <td>NaN</td>\n",
       "      <td>0.353280</td>\n",
       "      <td>NaN</td>\n",
       "      <td>NaN</td>\n",
       "      <td>NaN</td>\n",
       "    </tr>\n",
       "    <tr>\n",
       "      <th>7970</th>\n",
       "      <td>2147191531</td>\n",
       "      <td>*c1cc(C(=O)NCCCCCCCC)cc(N2C(=O)c3ccc(-c4ccc5c(...</td>\n",
       "      <td>NaN</td>\n",
       "      <td>0.369411</td>\n",
       "      <td>NaN</td>\n",
       "      <td>NaN</td>\n",
       "      <td>NaN</td>\n",
       "    </tr>\n",
       "    <tr>\n",
       "      <th>7972</th>\n",
       "      <td>2147438299</td>\n",
       "      <td>*c1ccc(OCCCCCCCCCCCOC(=O)CCCCC(=O)OCCCCCCCCCCC...</td>\n",
       "      <td>NaN</td>\n",
       "      <td>0.374049</td>\n",
       "      <td>NaN</td>\n",
       "      <td>NaN</td>\n",
       "      <td>NaN</td>\n",
       "    </tr>\n",
       "  </tbody>\n",
       "</table>\n",
       "<p>7030 rows × 7 columns</p>\n",
       "</div>"
      ],
      "text/plain": [
       "              id                                             SMILES  Tg  \\\n",
       "0          87817                         *CC(*)c1ccccc1C(=O)OCCCCCC NaN   \n",
       "1         106919  *Nc1ccc([C@H](CCC)c2ccc(C3(c4ccc([C@@H](CCC)c5... NaN   \n",
       "2         388772  *Oc1ccc(S(=O)(=O)c2ccc(Oc3ccc(C4(c5ccc(Oc6ccc(... NaN   \n",
       "3         519416  *Nc1ccc(-c2c(-c3ccc(C)cc3)c(-c3ccc(C)cc3)c(N*)... NaN   \n",
       "4         539187  *Oc1ccc(OC(=O)c2cc(OCCCCCCCCCOCC3CCCN3c3ccc([N... NaN   \n",
       "...          ...                                                ...  ..   \n",
       "7967  2146213237  *CCOC(=O)c1ccc(C(C#N)=C(c2ccc(OC)cc2)N2CCC(*)C... NaN   \n",
       "7968  2146592435       *Oc1cc(CCCCCCCC)cc(OC(=O)c2cccc(C(*)=O)c2)c1 NaN   \n",
       "7969  2146810552  *C(=O)OCCN(CCOC(=O)c1ccc2c(c1)C(=O)N(c1cccc(N3... NaN   \n",
       "7970  2147191531  *c1cc(C(=O)NCCCCCCCC)cc(N2C(=O)c3ccc(-c4ccc5c(... NaN   \n",
       "7972  2147438299  *c1ccc(OCCCCCCCCCCCOC(=O)CCCCC(=O)OCCCCCCCCCCC... NaN   \n",
       "\n",
       "           FFV        Tc  Density  Rg  \n",
       "0     0.374645  0.205667      NaN NaN  \n",
       "1     0.370410       NaN      NaN NaN  \n",
       "2     0.378860       NaN      NaN NaN  \n",
       "3     0.387324       NaN      NaN NaN  \n",
       "4     0.355470       NaN      NaN NaN  \n",
       "...        ...       ...      ...  ..  \n",
       "7967  0.385608       NaN      NaN NaN  \n",
       "7968  0.367498       NaN      NaN NaN  \n",
       "7969  0.353280       NaN      NaN NaN  \n",
       "7970  0.369411       NaN      NaN NaN  \n",
       "7972  0.374049       NaN      NaN NaN  \n",
       "\n",
       "[7030 rows x 7 columns]"
      ]
     },
     "execution_count": 9,
     "metadata": {},
     "output_type": "execute_result"
    }
   ],
   "source": [
    "raw_train_df"
   ]
  },
  {
   "cell_type": "code",
   "execution_count": 10,
   "id": "edc1c863",
   "metadata": {},
   "outputs": [],
   "source": [
    "ffv_csv = config['data']['ffv_csv']\n",
    "ffv_df = pd.read_csv(ffv_csv)\n"
   ]
  },
  {
   "cell_type": "code",
   "execution_count": 11,
   "id": "a55d98a4",
   "metadata": {},
   "outputs": [
    {
     "data": {
      "text/html": [
       "<div>\n",
       "<style scoped>\n",
       "    .dataframe tbody tr th:only-of-type {\n",
       "        vertical-align: middle;\n",
       "    }\n",
       "\n",
       "    .dataframe tbody tr th {\n",
       "        vertical-align: top;\n",
       "    }\n",
       "\n",
       "    .dataframe thead th {\n",
       "        text-align: right;\n",
       "    }\n",
       "</style>\n",
       "<table border=\"1\" class=\"dataframe\">\n",
       "  <thead>\n",
       "    <tr style=\"text-align: right;\">\n",
       "      <th></th>\n",
       "      <th>SMILES</th>\n",
       "      <th>FFV</th>\n",
       "    </tr>\n",
       "  </thead>\n",
       "  <tbody>\n",
       "    <tr>\n",
       "      <th>0</th>\n",
       "      <td>*C(=O)NNC(=O)c1ccc([Si](c2ccccc2)(c2ccccc2)c2c...</td>\n",
       "      <td>0.372725</td>\n",
       "    </tr>\n",
       "    <tr>\n",
       "      <th>1</th>\n",
       "      <td>*C(=O)NNC(=O)c1ccc([Si](c2ccccc2)(c2ccccc2)c2c...</td>\n",
       "      <td>0.365478</td>\n",
       "    </tr>\n",
       "    <tr>\n",
       "      <th>2</th>\n",
       "      <td>*C(=O)Nc1cc(NC(=O)c2ccc3[nH]c(-c4cc(-c5nc6cc(*...</td>\n",
       "      <td>0.376377</td>\n",
       "    </tr>\n",
       "    <tr>\n",
       "      <th>3</th>\n",
       "      <td>*C(=O)Nc1ccc(-c2cc(-c3ccccc3)cc(-c3ccc(NC(=O)c...</td>\n",
       "      <td>0.376939</td>\n",
       "    </tr>\n",
       "    <tr>\n",
       "      <th>4</th>\n",
       "      <td>*C(=O)Nc1ccc(-c2ccc(NC(=O)c3ccc4c(c3)C(=O)N(c3...</td>\n",
       "      <td>0.355235</td>\n",
       "    </tr>\n",
       "    <tr>\n",
       "      <th>...</th>\n",
       "      <td>...</td>\n",
       "      <td>...</td>\n",
       "    </tr>\n",
       "    <tr>\n",
       "      <th>857</th>\n",
       "      <td>*c1cccc(OCCCCCCOc2cccc(N3C(=O)c4ccc(-c5cccc6c5...</td>\n",
       "      <td>0.349095</td>\n",
       "    </tr>\n",
       "    <tr>\n",
       "      <th>858</th>\n",
       "      <td>*c1cccc(OCCCCCOc2cccc(N3C(=O)c4ccc(-c5cccc6c5C...</td>\n",
       "      <td>0.350892</td>\n",
       "    </tr>\n",
       "    <tr>\n",
       "      <th>859</th>\n",
       "      <td>*c1cccc(OCCCCOc2cccc(N3C(=O)c4ccc(-c5cccc6c5C(...</td>\n",
       "      <td>0.345386</td>\n",
       "    </tr>\n",
       "    <tr>\n",
       "      <th>860</th>\n",
       "      <td>*c1cccc(Oc2cccc(Oc3cccc(N4C(=O)c5ccc(Oc6ccc(Sc...</td>\n",
       "      <td>0.362224</td>\n",
       "    </tr>\n",
       "    <tr>\n",
       "      <th>861</th>\n",
       "      <td>*c1cccc(P(C)(=O)c2cccc(N3C(=O)c4ccc(Oc5ccc(C(C...</td>\n",
       "      <td>0.369574</td>\n",
       "    </tr>\n",
       "  </tbody>\n",
       "</table>\n",
       "<p>862 rows × 2 columns</p>\n",
       "</div>"
      ],
      "text/plain": [
       "                                                SMILES       FFV\n",
       "0    *C(=O)NNC(=O)c1ccc([Si](c2ccccc2)(c2ccccc2)c2c...  0.372725\n",
       "1    *C(=O)NNC(=O)c1ccc([Si](c2ccccc2)(c2ccccc2)c2c...  0.365478\n",
       "2    *C(=O)Nc1cc(NC(=O)c2ccc3[nH]c(-c4cc(-c5nc6cc(*...  0.376377\n",
       "3    *C(=O)Nc1ccc(-c2cc(-c3ccccc3)cc(-c3ccc(NC(=O)c...  0.376939\n",
       "4    *C(=O)Nc1ccc(-c2ccc(NC(=O)c3ccc4c(c3)C(=O)N(c3...  0.355235\n",
       "..                                                 ...       ...\n",
       "857  *c1cccc(OCCCCCCOc2cccc(N3C(=O)c4ccc(-c5cccc6c5...  0.349095\n",
       "858  *c1cccc(OCCCCCOc2cccc(N3C(=O)c4ccc(-c5cccc6c5C...  0.350892\n",
       "859  *c1cccc(OCCCCOc2cccc(N3C(=O)c4ccc(-c5cccc6c5C(...  0.345386\n",
       "860  *c1cccc(Oc2cccc(Oc3cccc(N4C(=O)c5ccc(Oc6ccc(Sc...  0.362224\n",
       "861  *c1cccc(P(C)(=O)c2cccc(N3C(=O)c4ccc(Oc5ccc(C(C...  0.369574\n",
       "\n",
       "[862 rows x 2 columns]"
      ]
     },
     "execution_count": 11,
     "metadata": {},
     "output_type": "execute_result"
    }
   ],
   "source": [
    "ffv_df"
   ]
  },
  {
   "cell_type": "code",
   "execution_count": 12,
   "id": "058cf587",
   "metadata": {},
   "outputs": [],
   "source": [
    "# Step 1: Ensure SMILES are treated as strings\n",
    "raw_train_df['SMILES'] = raw_train_df['SMILES'].astype(str)\n",
    "ffv_df['SMILES'] = ffv_df['SMILES'].astype(str)\n",
    "\n",
    "# Step 2: Identify common and unique SMILES\n",
    "common_smiles = set(raw_train_df['SMILES']) & set(ffv_df['SMILES'])\n",
    "unique_smiles = set(ffv_df['SMILES']) - set(raw_train_df['SMILES'])\n",
    "\n"
   ]
  },
  {
   "cell_type": "code",
   "execution_count": null,
   "id": "51a3723e",
   "metadata": {},
   "outputs": [],
   "source": [
    "\n",
    "# 4. Find common and unique SMILES\n",
    "common_smiles = set(raw_train_df['SMILES']) & set(ffv_df['SMILES'])\n",
    "unique_ffv_smiles = set(ffv_df['SMILES']) - set(raw_train_df['SMILES'])\n",
    "\n",
    "# 5. Extract only unique rows from ffv_df\n",
    "unique_ffv_rows = ffv_df[ffv_df['SMILES'].isin(unique_ffv_smiles)]\n",
    "\n"
   ]
  },
  {
   "cell_type": "code",
   "execution_count": null,
   "id": "38dec155",
   "metadata": {},
   "outputs": [],
   "source": [
    "# 6. Align column format with raw_train_df (fill empty target cols)\n",
    "for col in raw_train_df.columns:\n",
    "    if col not in unique_ffv_rows.columns:\n",
    "        unique_ffv_rows[col] = np.nan\n",
    "\n",
    "# 7. Reorder columns to match raw_train_df\n",
    "unique_ffv_rows = unique_ffv_rows[raw_train_df.columns]\n"
   ]
  },
  {
   "cell_type": "code",
   "execution_count": 15,
   "id": "778b4404",
   "metadata": {},
   "outputs": [],
   "source": [
    "\n",
    "# 8. Concatenate the unique rows\n",
    "ffv_merged_df = pd.concat([raw_train_df, unique_ffv_rows], ignore_index=True)"
   ]
  },
  {
   "cell_type": "code",
   "execution_count": 23,
   "id": "7f3cedac",
   "metadata": {},
   "outputs": [
    {
     "data": {
      "text/html": [
       "<div>\n",
       "<style scoped>\n",
       "    .dataframe tbody tr th:only-of-type {\n",
       "        vertical-align: middle;\n",
       "    }\n",
       "\n",
       "    .dataframe tbody tr th {\n",
       "        vertical-align: top;\n",
       "    }\n",
       "\n",
       "    .dataframe thead th {\n",
       "        text-align: right;\n",
       "    }\n",
       "</style>\n",
       "<table border=\"1\" class=\"dataframe\">\n",
       "  <thead>\n",
       "    <tr style=\"text-align: right;\">\n",
       "      <th></th>\n",
       "      <th>id</th>\n",
       "      <th>SMILES</th>\n",
       "      <th>Tg</th>\n",
       "      <th>FFV</th>\n",
       "      <th>Tc</th>\n",
       "      <th>Density</th>\n",
       "      <th>Rg</th>\n",
       "    </tr>\n",
       "  </thead>\n",
       "  <tbody>\n",
       "    <tr>\n",
       "      <th>0</th>\n",
       "      <td>87817.0</td>\n",
       "      <td>*CC(*)c1ccccc1C(=O)OCCCCCC</td>\n",
       "      <td>NaN</td>\n",
       "      <td>0.374645</td>\n",
       "      <td>0.205667</td>\n",
       "      <td>NaN</td>\n",
       "      <td>NaN</td>\n",
       "    </tr>\n",
       "    <tr>\n",
       "      <th>1</th>\n",
       "      <td>106919.0</td>\n",
       "      <td>*Nc1ccc([C@H](CCC)c2ccc(C3(c4ccc([C@@H](CCC)c5...</td>\n",
       "      <td>NaN</td>\n",
       "      <td>0.370410</td>\n",
       "      <td>NaN</td>\n",
       "      <td>NaN</td>\n",
       "      <td>NaN</td>\n",
       "    </tr>\n",
       "    <tr>\n",
       "      <th>2</th>\n",
       "      <td>388772.0</td>\n",
       "      <td>*Oc1ccc(S(=O)(=O)c2ccc(Oc3ccc(C4(c5ccc(Oc6ccc(...</td>\n",
       "      <td>NaN</td>\n",
       "      <td>0.378860</td>\n",
       "      <td>NaN</td>\n",
       "      <td>NaN</td>\n",
       "      <td>NaN</td>\n",
       "    </tr>\n",
       "    <tr>\n",
       "      <th>3</th>\n",
       "      <td>519416.0</td>\n",
       "      <td>*Nc1ccc(-c2c(-c3ccc(C)cc3)c(-c3ccc(C)cc3)c(N*)...</td>\n",
       "      <td>NaN</td>\n",
       "      <td>0.387324</td>\n",
       "      <td>NaN</td>\n",
       "      <td>NaN</td>\n",
       "      <td>NaN</td>\n",
       "    </tr>\n",
       "    <tr>\n",
       "      <th>4</th>\n",
       "      <td>539187.0</td>\n",
       "      <td>*Oc1ccc(OC(=O)c2cc(OCCCCCCCCCOCC3CCCN3c3ccc([N...</td>\n",
       "      <td>NaN</td>\n",
       "      <td>0.355470</td>\n",
       "      <td>NaN</td>\n",
       "      <td>NaN</td>\n",
       "      <td>NaN</td>\n",
       "    </tr>\n",
       "  </tbody>\n",
       "</table>\n",
       "</div>"
      ],
      "text/plain": [
       "         id                                             SMILES  Tg       FFV  \\\n",
       "0   87817.0                         *CC(*)c1ccccc1C(=O)OCCCCCC NaN  0.374645   \n",
       "1  106919.0  *Nc1ccc([C@H](CCC)c2ccc(C3(c4ccc([C@@H](CCC)c5... NaN  0.370410   \n",
       "2  388772.0  *Oc1ccc(S(=O)(=O)c2ccc(Oc3ccc(C4(c5ccc(Oc6ccc(... NaN  0.378860   \n",
       "3  519416.0  *Nc1ccc(-c2c(-c3ccc(C)cc3)c(-c3ccc(C)cc3)c(N*)... NaN  0.387324   \n",
       "4  539187.0  *Oc1ccc(OC(=O)c2cc(OCCCCCCCCCOCC3CCCN3c3ccc([N... NaN  0.355470   \n",
       "\n",
       "         Tc  Density  Rg  \n",
       "0  0.205667      NaN NaN  \n",
       "1       NaN      NaN NaN  \n",
       "2       NaN      NaN NaN  \n",
       "3       NaN      NaN NaN  \n",
       "4       NaN      NaN NaN  "
      ]
     },
     "execution_count": 23,
     "metadata": {},
     "output_type": "execute_result"
    }
   ],
   "source": [
    "ffv_merged_df.head()"
   ]
  },
  {
   "cell_type": "code",
   "execution_count": 17,
   "id": "504c50f4",
   "metadata": {},
   "outputs": [
    {
     "name": "stdout",
     "output_type": "stream",
     "text": [
      "✅ Merged and saved successfully to:\n",
      "D:\\Skills\\new\\NeurIPS-1 - Copy\\outputs\\csv\\ffv_merged.csv\n"
     ]
    }
   ],
   "source": [
    "# 5. Save to your desired location\n",
    "output_path = ffv_merged_csv  # ✅ customize path\n",
    "ffv_merged_df.to_csv(output_path, index=False)\n",
    "\n",
    "print(f\"✅ Merged and saved successfully to:\\n{output_path}\")\n"
   ]
  },
  {
   "cell_type": "markdown",
   "id": "5683883c",
   "metadata": {},
   "source": [
    "## TC dataset"
   ]
  },
  {
   "cell_type": "code",
   "execution_count": 27,
   "id": "e7227036",
   "metadata": {},
   "outputs": [],
   "source": [
    "raw_train_df = pd.read_csv(raw_train_csv)"
   ]
  },
  {
   "cell_type": "code",
   "execution_count": 28,
   "id": "468c0620",
   "metadata": {},
   "outputs": [],
   "source": [
    "TG_csv = config['data']['TG_csv']\n",
    "TG_df = pd.read_csv(TG_csv)"
   ]
  },
  {
   "cell_type": "code",
   "execution_count": 38,
   "id": "80136478",
   "metadata": {},
   "outputs": [],
   "source": [
    "# 1. Drop NaNs from FFV in raw_train_df (you already did this)\n",
    "raw_train_df.dropna(subset=['Tg'], inplace=True)\n",
    "\n",
    "\n",
    "\n",
    "# 3. Standardize SMILES columns (strip whitespace etc.)\n",
    "raw_train_df['SMILES'] = raw_train_df['SMILES'].str.strip()\n",
    "TG_df['SMILES'] = TG_df['SMILES'].str.strip()\n",
    "\n",
    "# 4. Find common and unique SMILES\n",
    "common_smiles = set(raw_train_df['SMILES']) & set(TG_df['SMILES'])\n",
    "unique_TG_smiles = set(TG_df['SMILES']) - set(raw_train_df['SMILES'])\n",
    "\n",
    "# 5. Extract only unique rows from ffv_df\n",
    "unique_TG_rows = TG_df[TG_df['SMILES'].isin(unique_TG_smiles)]\n",
    "\n",
    "# 6. Align column format with raw_train_df (fill empty target cols)\n",
    "for col in raw_train_df.columns:\n",
    "    if col not in unique_TG_rows.columns:\n",
    "        unique_TG_rows[col] = np.nan\n",
    "\n",
    "# 7. Reorder columns to match raw_train_df\n",
    "unique_TG_rows = unique_TG_rows[raw_train_df.columns]\n",
    "\n",
    "# 8. Concatenate the unique rows\n",
    "merged_df = pd.concat([raw_train_df, unique_TG_rows], ignore_index=True)\n"
   ]
  },
  {
   "cell_type": "code",
   "execution_count": 39,
   "id": "1211dd34",
   "metadata": {},
   "outputs": [
    {
     "data": {
      "text/html": [
       "<div>\n",
       "<style scoped>\n",
       "    .dataframe tbody tr th:only-of-type {\n",
       "        vertical-align: middle;\n",
       "    }\n",
       "\n",
       "    .dataframe tbody tr th {\n",
       "        vertical-align: top;\n",
       "    }\n",
       "\n",
       "    .dataframe thead th {\n",
       "        text-align: right;\n",
       "    }\n",
       "</style>\n",
       "<table border=\"1\" class=\"dataframe\">\n",
       "  <thead>\n",
       "    <tr style=\"text-align: right;\">\n",
       "      <th></th>\n",
       "      <th>id</th>\n",
       "      <th>SMILES</th>\n",
       "      <th>Tg</th>\n",
       "      <th>FFV</th>\n",
       "      <th>Tc</th>\n",
       "      <th>Density</th>\n",
       "      <th>Rg</th>\n",
       "    </tr>\n",
       "  </thead>\n",
       "  <tbody>\n",
       "    <tr>\n",
       "      <th>0</th>\n",
       "      <td>10142210.0</td>\n",
       "      <td>*NC(C)C(=O)NCC(=O)NCC(*)=O</td>\n",
       "      <td>208.639749</td>\n",
       "      <td>NaN</td>\n",
       "      <td>NaN</td>\n",
       "      <td>NaN</td>\n",
       "      <td>NaN</td>\n",
       "    </tr>\n",
       "    <tr>\n",
       "      <th>1</th>\n",
       "      <td>13838538.0</td>\n",
       "      <td>*CCCCCCSSCCCCSS*</td>\n",
       "      <td>-41.266724</td>\n",
       "      <td>NaN</td>\n",
       "      <td>0.192</td>\n",
       "      <td>NaN</td>\n",
       "      <td>NaN</td>\n",
       "    </tr>\n",
       "    <tr>\n",
       "      <th>2</th>\n",
       "      <td>16498242.0</td>\n",
       "      <td>*C=CCCCCCCCC*</td>\n",
       "      <td>-17.282022</td>\n",
       "      <td>NaN</td>\n",
       "      <td>NaN</td>\n",
       "      <td>NaN</td>\n",
       "      <td>NaN</td>\n",
       "    </tr>\n",
       "    <tr>\n",
       "      <th>3</th>\n",
       "      <td>30582999.0</td>\n",
       "      <td>*CCCCCCCCCCOC(=O)c1ccc(C(=O)NCCNC(=O)c2ccc(C(=...</td>\n",
       "      <td>4.250403</td>\n",
       "      <td>NaN</td>\n",
       "      <td>NaN</td>\n",
       "      <td>NaN</td>\n",
       "      <td>NaN</td>\n",
       "    </tr>\n",
       "    <tr>\n",
       "      <th>4</th>\n",
       "      <td>36217683.0</td>\n",
       "      <td>*c1nc2cc3sc(-c4cc(OCCCCCC)c(*)cc4OCCCCCC)nc3cc2s1</td>\n",
       "      <td>168.526313</td>\n",
       "      <td>NaN</td>\n",
       "      <td>NaN</td>\n",
       "      <td>NaN</td>\n",
       "      <td>NaN</td>\n",
       "    </tr>\n",
       "  </tbody>\n",
       "</table>\n",
       "</div>"
      ],
      "text/plain": [
       "           id                                             SMILES          Tg  \\\n",
       "0  10142210.0                         *NC(C)C(=O)NCC(=O)NCC(*)=O  208.639749   \n",
       "1  13838538.0                                   *CCCCCCSSCCCCSS*  -41.266724   \n",
       "2  16498242.0                                      *C=CCCCCCCCC*  -17.282022   \n",
       "3  30582999.0  *CCCCCCCCCCOC(=O)c1ccc(C(=O)NCCNC(=O)c2ccc(C(=...    4.250403   \n",
       "4  36217683.0  *c1nc2cc3sc(-c4cc(OCCCCCC)c(*)cc4OCCCCCC)nc3cc2s1  168.526313   \n",
       "\n",
       "   FFV     Tc  Density  Rg  \n",
       "0  NaN    NaN      NaN NaN  \n",
       "1  NaN  0.192      NaN NaN  \n",
       "2  NaN    NaN      NaN NaN  \n",
       "3  NaN    NaN      NaN NaN  \n",
       "4  NaN    NaN      NaN NaN  "
      ]
     },
     "execution_count": 39,
     "metadata": {},
     "output_type": "execute_result"
    }
   ],
   "source": [
    "merged_df.head()"
   ]
  },
  {
   "cell_type": "code",
   "execution_count": 43,
   "id": "ebae95fd",
   "metadata": {},
   "outputs": [],
   "source": [
    "Tg_cleaned = config['output']['Tg_csv']"
   ]
  },
  {
   "cell_type": "code",
   "execution_count": 44,
   "id": "6475368d",
   "metadata": {},
   "outputs": [
    {
     "name": "stdout",
     "output_type": "stream",
     "text": [
      "✅ Merged and saved successfully to:\n",
      "D:\\Skills\\new\\NeurIPS-1 - Copy\\outputs\\csv\\Tg_cleaned.csv\n"
     ]
    }
   ],
   "source": [
    "# 5. Save to your desired location\n",
    "output_path = Tg_cleaned  # ✅ customize path\n",
    "merged_df.to_csv(output_path, index=False)\n",
    "\n",
    "print(f\"✅ Merged and saved successfully to:\\n{output_path}\")"
   ]
  },
  {
   "cell_type": "code",
   "execution_count": 54,
   "id": "8d607d30",
   "metadata": {},
   "outputs": [],
   "source": [
    "raw_train_df = pd.read_csv(raw_train_csv)"
   ]
  },
  {
   "cell_type": "code",
   "execution_count": 55,
   "id": "ec5d6991",
   "metadata": {},
   "outputs": [],
   "source": [
    "import pandas as pd\n",
    "import numpy as np\n",
    "\n",
    "def merge_unique_target_data(main_df, supplement_df, target_col=\"Tg\"):\n",
    "    \"\"\"\n",
    "    Merges a supplementary dataframe into the main dataframe by adding unique rows (based on SMILES)\n",
    "    that contain values for a specific target column. Missing columns will be filled with NaN to align with main_df.\n",
    "    \n",
    "    Parameters:\n",
    "        main_df (pd.DataFrame): Original dataset with standard columns like SMILES and multiple targets.\n",
    "        supplement_df (pd.DataFrame): Supplementary dataset with SMILES and at least one target column.\n",
    "        target_col (str): The target column to use for filtering and merging (e.g., 'Tg', 'FFV', etc.)\n",
    "\n",
    "    Returns:\n",
    "        pd.DataFrame: Updated dataframe with unique rows from supplement_df added in.\n",
    "    \"\"\"\n",
    "\n",
    "    # Step 1: Drop NaNs from the target column in the main dataframe\n",
    "    main_df = main_df.dropna(subset=[target_col]).copy()\n",
    "\n",
    "    # Step 2: Strip whitespace from SMILES\n",
    "    main_df['SMILES'] = main_df['SMILES'].str.strip()\n",
    "    supplement_df['SMILES'] = supplement_df['SMILES'].str.strip()\n",
    "\n",
    "    # Step 3: Identify SMILES present only in the supplement\n",
    "    common_smiles = set(main_df['SMILES']) & set(supplement_df['SMILES'])\n",
    "    unique_smiles = set(supplement_df['SMILES']) - set(main_df['SMILES'])\n",
    "\n",
    "    # Step 4: Extract rows from supplement with unique SMILES\n",
    "    unique_rows = supplement_df[supplement_df['SMILES'].isin(unique_smiles)].copy()\n",
    "\n",
    "    # Step 5: Align column format with main_df\n",
    "    for col in main_df.columns:\n",
    "        if col not in unique_rows.columns:\n",
    "            unique_rows[col] = np.nan\n",
    "\n",
    "    # Step 6: Reorder columns to match\n",
    "    unique_rows = unique_rows[main_df.columns]\n",
    "\n",
    "    # Step 7: Concatenate\n",
    "    merged_df = pd.concat([main_df, unique_rows], ignore_index=True)\n",
    "\n",
    "    return merged_df\n"
   ]
  },
  {
   "cell_type": "code",
   "execution_count": 56,
   "id": "68f3167d",
   "metadata": {},
   "outputs": [],
   "source": [
    "Tc_csv = config['data']['TC_csv']\n",
    "Tc_df = pd.read_csv(Tc_csv)"
   ]
  },
  {
   "cell_type": "code",
   "execution_count": 57,
   "id": "e3c8893a",
   "metadata": {},
   "outputs": [],
   "source": [
    "Tc_merged_df = merge_unique_target_data(raw_train_df, Tc_df, 'Tc')"
   ]
  },
  {
   "cell_type": "code",
   "execution_count": 58,
   "id": "5862b2c5",
   "metadata": {},
   "outputs": [
    {
     "data": {
      "text/html": [
       "<div>\n",
       "<style scoped>\n",
       "    .dataframe tbody tr th:only-of-type {\n",
       "        vertical-align: middle;\n",
       "    }\n",
       "\n",
       "    .dataframe tbody tr th {\n",
       "        vertical-align: top;\n",
       "    }\n",
       "\n",
       "    .dataframe thead th {\n",
       "        text-align: right;\n",
       "    }\n",
       "</style>\n",
       "<table border=\"1\" class=\"dataframe\">\n",
       "  <thead>\n",
       "    <tr style=\"text-align: right;\">\n",
       "      <th></th>\n",
       "      <th>id</th>\n",
       "      <th>SMILES</th>\n",
       "      <th>Tg</th>\n",
       "      <th>FFV</th>\n",
       "      <th>Tc</th>\n",
       "      <th>Density</th>\n",
       "      <th>Rg</th>\n",
       "    </tr>\n",
       "  </thead>\n",
       "  <tbody>\n",
       "    <tr>\n",
       "      <th>0</th>\n",
       "      <td>87817.0</td>\n",
       "      <td>*CC(*)c1ccccc1C(=O)OCCCCCC</td>\n",
       "      <td>NaN</td>\n",
       "      <td>0.374645</td>\n",
       "      <td>0.205667</td>\n",
       "      <td>NaN</td>\n",
       "      <td>NaN</td>\n",
       "    </tr>\n",
       "    <tr>\n",
       "      <th>1</th>\n",
       "      <td>2986007.0</td>\n",
       "      <td>*c1ccc(-c2ccc3c(c2)C(CCCCCCC#N)(CCCCCCC#N)c2cc...</td>\n",
       "      <td>NaN</td>\n",
       "      <td>0.402397</td>\n",
       "      <td>0.487000</td>\n",
       "      <td>0.901123</td>\n",
       "      <td>28.682441</td>\n",
       "    </tr>\n",
       "    <tr>\n",
       "      <th>2</th>\n",
       "      <td>3013292.0</td>\n",
       "      <td>*CC(*)c1ccc(C(=O)O)c(C(=O)O)c1</td>\n",
       "      <td>NaN</td>\n",
       "      <td>NaN</td>\n",
       "      <td>0.171000</td>\n",
       "      <td>1.184354</td>\n",
       "      <td>13.534248</td>\n",
       "    </tr>\n",
       "    <tr>\n",
       "      <th>3</th>\n",
       "      <td>6645418.0</td>\n",
       "      <td>*CCCCCNC(=O)CCCCC(=O)N*</td>\n",
       "      <td>NaN</td>\n",
       "      <td>0.332741</td>\n",
       "      <td>0.327000</td>\n",
       "      <td>NaN</td>\n",
       "      <td>NaN</td>\n",
       "    </tr>\n",
       "    <tr>\n",
       "      <th>4</th>\n",
       "      <td>7687820.0</td>\n",
       "      <td>*CCCCCCCCCCCCCCCCCCNC(=O)NCCCCCCNC(=O)N*</td>\n",
       "      <td>NaN</td>\n",
       "      <td>NaN</td>\n",
       "      <td>0.383000</td>\n",
       "      <td>NaN</td>\n",
       "      <td>NaN</td>\n",
       "    </tr>\n",
       "  </tbody>\n",
       "</table>\n",
       "</div>"
      ],
      "text/plain": [
       "          id                                             SMILES  Tg       FFV  \\\n",
       "0    87817.0                         *CC(*)c1ccccc1C(=O)OCCCCCC NaN  0.374645   \n",
       "1  2986007.0  *c1ccc(-c2ccc3c(c2)C(CCCCCCC#N)(CCCCCCC#N)c2cc... NaN  0.402397   \n",
       "2  3013292.0                     *CC(*)c1ccc(C(=O)O)c(C(=O)O)c1 NaN       NaN   \n",
       "3  6645418.0                            *CCCCCNC(=O)CCCCC(=O)N* NaN  0.332741   \n",
       "4  7687820.0           *CCCCCCCCCCCCCCCCCCNC(=O)NCCCCCCNC(=O)N* NaN       NaN   \n",
       "\n",
       "         Tc   Density         Rg  \n",
       "0  0.205667       NaN        NaN  \n",
       "1  0.487000  0.901123  28.682441  \n",
       "2  0.171000  1.184354  13.534248  \n",
       "3  0.327000       NaN        NaN  \n",
       "4  0.383000       NaN        NaN  "
      ]
     },
     "execution_count": 58,
     "metadata": {},
     "output_type": "execute_result"
    }
   ],
   "source": [
    "Tc_merged_df.head()"
   ]
  },
  {
   "cell_type": "code",
   "execution_count": null,
   "id": "0a33ea77",
   "metadata": {},
   "outputs": [],
   "source": []
  },
  {
   "cell_type": "code",
   "execution_count": 59,
   "id": "bcb79fe6",
   "metadata": {},
   "outputs": [
    {
     "name": "stdout",
     "output_type": "stream",
     "text": [
      "✅ Merged and saved successfully to:\n",
      "D:\\Skills\\new\\NeurIPS-1 - Copy\\outputs\\csv\\Tc_cleaned.csv\n"
     ]
    }
   ],
   "source": [
    "# 5. Save to your desired location\n",
    "output_path = Tc_cleaned  # ✅ customize path\n",
    "Tc_merged_df.to_csv(output_path, index=False)\n",
    "\n",
    "print(f\"✅ Merged and saved successfully to:\\n{output_path}\")"
   ]
  },
  {
   "cell_type": "code",
   "execution_count": 13,
   "id": "e413ef92",
   "metadata": {},
   "outputs": [
    {
     "data": {
      "text/plain": [
       "SMILES    862\n",
       "FFV       862\n",
       "dtype: int64"
      ]
     },
     "execution_count": 13,
     "metadata": {},
     "output_type": "execute_result"
    }
   ],
   "source": [
    "ffv_df.isna().count()\n"
   ]
  },
  {
   "cell_type": "code",
   "execution_count": 14,
   "id": "3729695c",
   "metadata": {},
   "outputs": [
    {
     "data": {
      "text/plain": [
       "SMILES    46\n",
       "Tg        46\n",
       "dtype: int64"
      ]
     },
     "execution_count": 14,
     "metadata": {},
     "output_type": "execute_result"
    }
   ],
   "source": [
    "TG_df.isna().count()"
   ]
  },
  {
   "cell_type": "code",
   "execution_count": 15,
   "id": "d6cd1d14",
   "metadata": {},
   "outputs": [
    {
     "data": {
      "text/plain": [
       "SMILES     874\n",
       "TC_mean    874\n",
       "dtype: int64"
      ]
     },
     "execution_count": 15,
     "metadata": {},
     "output_type": "execute_result"
    }
   ],
   "source": [
    "TC_df.isna().count()"
   ]
  },
  {
   "cell_type": "code",
   "execution_count": 19,
   "id": "831cd951",
   "metadata": {},
   "outputs": [
    {
     "name": "stdout",
     "output_type": "stream",
     "text": [
      "✅ No duplicates in FFV.\n",
      "⚠️ Duplicate ( SMILES) pairs found in Tc:\n",
      "              SMILES   TC_mean\n",
      "4            */C=C/*  0.526000\n",
      "5            */C=C/*  0.262000\n",
      "11         */C=C/CC*  0.248667\n",
      "12         */C=C/CC*  0.272000\n",
      "13         */C=C/CC*  0.244000\n",
      "14        */C=C/CCC*  0.253500\n",
      "15        */C=C/CCC*  0.279600\n",
      "19   */C=C/CCCCCCCC*  0.357167\n",
      "20   */C=C/CCCCCCCC*  0.380500\n",
      "445     *CC/C=C(/*)C  0.256000\n",
      "446     *CC/C=C(/*)C  0.258000\n",
      "447     *CC/C=C(/*)C  0.235000\n",
      "✅ No duplicates in Tg.\n"
     ]
    }
   ],
   "source": [
    "def check_uniqueness(df, name=\"df\"):\n",
    "    duplicates = df.duplicated(subset=[ \"SMILES\"], keep=False)\n",
    "    if duplicates.any():\n",
    "        print(f\"⚠️ Duplicate ( SMILES) pairs found in {name}:\")\n",
    "        print(df[duplicates])\n",
    "    else:\n",
    "        print(f\"✅ No duplicates in {name}.\")\n",
    "\n",
    "check_uniqueness(ffv_df, \"FFV\")\n",
    "check_uniqueness(TC_df, \"Tc\")\n",
    "check_uniqueness(TG_df, \"Tg\")\n"
   ]
  },
  {
   "cell_type": "code",
   "execution_count": null,
   "id": "ef668ee6",
   "metadata": {},
   "outputs": [],
   "source": []
  }
 ],
 "metadata": {
  "kernelspec": {
   "display_name": "polymer-predictor",
   "language": "python",
   "name": "python3"
  },
  "language_info": {
   "codemirror_mode": {
    "name": "ipython",
    "version": 3
   },
   "file_extension": ".py",
   "mimetype": "text/x-python",
   "name": "python",
   "nbconvert_exporter": "python",
   "pygments_lexer": "ipython3",
   "version": "3.10.18"
  }
 },
 "nbformat": 4,
 "nbformat_minor": 5
}
